{
 "cells": [
  {
   "cell_type": "markdown",
   "metadata": {},
   "source": [
    "# Tensorflow saver Test "
   ]
  },
  {
   "cell_type": "markdown",
   "metadata": {},
   "source": [
    "### restore with different optimizer (feat. adam) on simple MF model"
   ]
  },
  {
   "cell_type": "markdown",
   "metadata": {},
   "source": [
    "- 2017.1.24"
   ]
  },
  {
   "cell_type": "code",
   "execution_count": 1,
   "metadata": {
    "collapsed": true
   },
   "outputs": [],
   "source": [
    "import tensorflow as tf\n",
    "import numpy as np"
   ]
  },
  {
   "cell_type": "code",
   "execution_count": 2,
   "metadata": {
    "collapsed": true
   },
   "outputs": [],
   "source": [
    "Data = np.random.randint(0,5,(200,100))"
   ]
  },
  {
   "cell_type": "code",
   "execution_count": 3,
   "metadata": {
    "collapsed": true
   },
   "outputs": [],
   "source": [
    "tf.reset_default_graph()\n",
    "\n",
    "X = tf.placeholder(tf.float32, [200,100], name=\"X\")\n",
    "\n",
    "P = tf.get_variable(\n",
    "    \"P\", [200, 10], initializer=tf.random_normal_initializer(0, 0.1))\n",
    "Q = tf.get_variable(\n",
    "    \"Q\", [100, 10], initializer=tf.random_normal_initializer(0, 0.1))\n",
    "\n",
    "X_pred = tf.matmul(P,tf.transpose(Q))"
   ]
  },
  {
   "cell_type": "code",
   "execution_count": 4,
   "metadata": {
    "collapsed": true
   },
   "outputs": [],
   "source": [
    "loss = tf.reduce_mean(tf.squared_difference(X, X_pred))"
   ]
  },
  {
   "cell_type": "markdown",
   "metadata": {},
   "source": [
    "---"
   ]
  },
  {
   "cell_type": "code",
   "execution_count": 5,
   "metadata": {
    "collapsed": true
   },
   "outputs": [],
   "source": [
    "optimizer = tf.train.GradientDescentOptimizer(0.1).minimize(loss)"
   ]
  },
  {
   "cell_type": "code",
   "execution_count": 6,
   "metadata": {
    "collapsed": true
   },
   "outputs": [],
   "source": [
    "init = tf.global_variables_initializer()"
   ]
  },
  {
   "cell_type": "markdown",
   "metadata": {},
   "source": [
    "---"
   ]
  },
  {
   "cell_type": "markdown",
   "metadata": {},
   "source": [
    "## run n save"
   ]
  },
  {
   "cell_type": "code",
   "execution_count": 7,
   "metadata": {},
   "outputs": [
    {
     "name": "stdout",
     "output_type": "stream",
     "text": [
      "6.06848\n",
      "6.06827\n",
      "6.06805\n",
      "6.06784\n",
      "6.06763\n",
      "6.06741\n",
      "6.06719\n",
      "6.06697\n",
      "6.06675\n",
      "6.06652\n",
      "[ 0.13916092 -0.08124139 -0.12695986  0.08627793 -0.06326085 -0.07543805\n",
      "  0.14904258  0.11553844 -0.18912892  0.05422319]\n",
      "[ 0.02826945  0.01856981 -0.24810702 -0.21994434  0.02325869  0.04355475\n",
      " -0.03592653 -0.09070697  0.01681091  0.12088958]\n",
      "Model saved.\n"
     ]
    }
   ],
   "source": [
    "saver = tf.train.Saver()\n",
    "with tf.Session() as sess:\n",
    "    sess.run(init)\n",
    "    for it in range(1,101):\n",
    "        _,l,Pp,Qp = sess.run([optimizer,loss,P,Q], feed_dict={X: Data})\n",
    "        if it%10==0: \n",
    "            print(l)\n",
    "    print(Pp[0][:10])\n",
    "    print(Qp[0][:10])\n",
    "            \n",
    "    try:\n",
    "        save_path = saver.save(sess, './mf.model')\n",
    "        print(\"Model saved.\")\n",
    "    except Exception as err:\n",
    "        print(err)"
   ]
  },
  {
   "cell_type": "markdown",
   "metadata": {},
   "source": [
    "## restore n check"
   ]
  },
  {
   "cell_type": "code",
   "execution_count": 8,
   "metadata": {},
   "outputs": [
    {
     "name": "stdout",
     "output_type": "stream",
     "text": [
      "INFO:tensorflow:Restoring parameters from ./mf.model\n",
      "Model restored.\n",
      "[ 0.13916092 -0.08124139 -0.12695986  0.08627793 -0.06326085 -0.07543805\n",
      "  0.14904258  0.11553844 -0.18912892  0.05422319]\n",
      "[ 0.02826945  0.01856981 -0.24810702 -0.21994434  0.02325869  0.04355475\n",
      " -0.03592653 -0.09070697  0.01681091  0.12088958]\n"
     ]
    }
   ],
   "source": [
    "saver = tf.train.Saver()\n",
    "with tf.Session() as sess:\n",
    "    try:    \n",
    "        saver.restore(sess, './mf.model')\n",
    "        print(\"Model restored.\")\n",
    "        Pp2,Qp2 = sess.run([P,Q])\n",
    "        print(Pp2[0][:10])\n",
    "        print(Qp2[0][:10])\n",
    "    except Exception as err:\n",
    "        print(err)"
   ]
  },
  {
   "cell_type": "markdown",
   "metadata": {},
   "source": [
    "## restore n check n run n save again"
   ]
  },
  {
   "cell_type": "code",
   "execution_count": 9,
   "metadata": {},
   "outputs": [
    {
     "name": "stdout",
     "output_type": "stream",
     "text": [
      "INFO:tensorflow:Restoring parameters from ./mf.model\n",
      "Model restored.\n",
      "[ 0.13916092 -0.08124139 -0.12695986  0.08627793 -0.06326085 -0.07543805\n",
      "  0.14904258  0.11553844 -0.18912892  0.05422319]\n",
      "[ 0.02826945  0.01856981 -0.24810702 -0.21994434  0.02325869  0.04355475\n",
      " -0.03592653 -0.09070697  0.01681091  0.12088958]\n",
      "2.84233\n",
      "1.97411\n",
      "1.81552\n",
      "1.75322\n",
      "1.66052\n",
      "1.6228\n",
      "1.59489\n",
      "1.57984\n",
      "1.56665\n",
      "1.55773\n",
      "[ 1.27529025  1.64855552  2.97173619  1.38606608  2.96814728  2.63457608\n",
      "  2.20879436  1.73130977  1.52818847  1.76617002]\n",
      "[ 0.09651278 -0.94102162 -0.82287133  0.14125878 -0.85094011  0.33515686\n",
      " -0.40291825  0.92688352 -0.24264942  0.7725302 ]\n",
      "[ 0.44930258  0.15636776 -0.21256459 -0.31694606 -0.44654006 -1.27156425\n",
      " -0.54710144  0.59498882  0.48333111  0.82650137]\n",
      "Model saved.\n"
     ]
    }
   ],
   "source": [
    "saver = tf.train.Saver()\n",
    "with tf.Session() as sess:\n",
    "    try:\n",
    "#         optimizer = tf.train.AdamOptimizer(0.1).minimize(loss)\n",
    "#         init = tf.global_variables_initializer()\n",
    "#         sess.run(init)\n",
    "        \n",
    "        saver.restore(sess, './mf.model')\n",
    "        print(\"Model restored.\")\n",
    "        Pp2,Qp2 = sess.run([P,Q])\n",
    "        print(Pp2[0][:10])\n",
    "        print(Qp2[0][:10])\n",
    "        \n",
    "        var_list = tf.get_collection(tf.GraphKeys.TRAINABLE_VARIABLES)\n",
    "        opt = tf.train.AdamOptimizer(0.1)\n",
    "        optimizer = opt.minimize(loss, var_list=var_list)\n",
    "        reset_opt_op = tf.variables_initializer(\n",
    "            [opt.get_slot(var, name) for name in opt.get_slot_names() for var in var_list])\n",
    "        sess.run(reset_opt_op)\n",
    "        # if the restore optimizer is adam, add these two.\n",
    "        sess.run(sess.graph.get_tensor_by_name('beta1_power/Assign:0'))\n",
    "        sess.run(sess.graph.get_tensor_by_name('beta2_power/Assign:0'))\n",
    "        \n",
    "        # continue runing\n",
    "        for it in range(1,101):\n",
    "            _,l,pred3,Pp3,Qp3 = sess.run([optimizer,loss,X_pred,P,Q], feed_dict={X: Data})\n",
    "            if it%10==0: \n",
    "                print(l)\n",
    "        print(pred3[0][:10])\n",
    "        print(Pp3[0][:10])\n",
    "        print(Qp3[0][:10])\n",
    "        \n",
    "        # save again\n",
    "        try:\n",
    "            save_path = saver.save(sess, './mf1.model')\n",
    "            print(\"Model saved.\")\n",
    "        except Exception as err:\n",
    "            print(err)\n",
    "        \n",
    "    except Exception as err:\n",
    "        print(err)"
   ]
  },
  {
   "cell_type": "code",
   "execution_count": null,
   "metadata": {
    "collapsed": true
   },
   "outputs": [],
   "source": []
  }
 ],
 "metadata": {
  "kernelspec": {
   "display_name": "Python 2",
   "language": "python",
   "name": "python2"
  },
  "language_info": {
   "codemirror_mode": {
    "name": "ipython",
    "version": 2
   },
   "file_extension": ".py",
   "mimetype": "text/x-python",
   "name": "python",
   "nbconvert_exporter": "python",
   "pygments_lexer": "ipython2",
   "version": "2.7.14"
  }
 },
 "nbformat": 4,
 "nbformat_minor": 2
}
